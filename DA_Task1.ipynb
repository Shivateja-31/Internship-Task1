{
  "cells": [
    {
      "cell_type": "markdown",
      "metadata": {
        "id": "view-in-github",
        "colab_type": "text"
      },
      "source": [
        "<a href=\"https://colab.research.google.com/github/Shivateja-31/Internship-Task1/blob/main/DA_Task1.ipynb\" target=\"_parent\"><img src=\"https://colab.research.google.com/assets/colab-badge.svg\" alt=\"Open In Colab\"/></a>"
      ]
    },
    {
      "cell_type": "code",
      "execution_count": null,
      "metadata": {
        "id": "PzSxF_TfGP4Q"
      },
      "outputs": [],
      "source": [
        "#import the necessary libraries\n",
        "import numpy as np\n",
        "import pandas as pd\n",
        "from sklearn.preprocessing import StandardScaler"
      ]
    },
    {
      "cell_type": "code",
      "execution_count": null,
      "metadata": {
        "id": "_c8kaM2MIRKc"
      },
      "outputs": [],
      "source": [
        "#Load the dataset\n",
        "import pandas as pd\n",
        "df = pd.read_csv('/content/sales_data.csv')\n"
      ]
    },
    {
      "cell_type": "code",
      "execution_count": null,
      "metadata": {
        "colab": {
          "base_uri": "https://localhost:8080/"
        },
        "id": "EZCOM87lMM7K",
        "outputId": "ebfd5a26-14b7-418f-f238-875ca5aa8aaa"
      },
      "outputs": [
        {
          "name": "stdout",
          "output_type": "stream",
          "text": [
            "     Product_ID   Sale_Date Sales_Rep Region  Sales_Amount  Quantity_Sold  \\\n",
            "0          1052  2023-02-03       Bob  North       5053.97             18   \n",
            "1          1093  2023-04-21       Bob   West       4384.02             17   \n",
            "2          1015  2023-09-21     David  South       4631.23             30   \n",
            "3          1072  2023-08-24       Bob  South       2167.94             39   \n",
            "4          1061  2023-03-24   Charlie   East       3750.20             13   \n",
            "..          ...         ...       ...    ...           ...            ...   \n",
            "995        1010  2023-04-15   Charlie  North       4733.88              4   \n",
            "996        1067  2023-09-07       Bob  North       4716.36             37   \n",
            "997        1018  2023-04-27     David  South       7629.70             17   \n",
            "998        1100  2023-12-20     David   West       1629.47             39   \n",
            "999        1086  2023-08-16     Alice   East       4923.93             48   \n",
            "\n",
            "    Product_Category  Unit_Cost  Unit_Price Customer_Type  Discount  \\\n",
            "0          Furniture     152.75      267.22     Returning      0.09   \n",
            "1          Furniture    3816.39     4209.44     Returning      0.11   \n",
            "2               Food     261.56      371.40     Returning      0.20   \n",
            "3           Clothing    4330.03     4467.75           New      0.02   \n",
            "4        Electronics     637.37      692.71           New      0.08   \n",
            "..               ...        ...         ...           ...       ...   \n",
            "995             Food    4943.03     5442.15     Returning      0.29   \n",
            "996         Clothing    1754.32     1856.40           New      0.21   \n",
            "997         Clothing     355.72      438.27     Returning      0.06   \n",
            "998      Electronics    3685.03     3743.39           New      0.01   \n",
            "999             Food    2632.58     2926.68     Returning      0.14   \n",
            "\n",
            "    Payment_Method Sales_Channel Region_and_Sales_Rep  \n",
            "0             Cash        Online            North-Bob  \n",
            "1             Cash        Retail             West-Bob  \n",
            "2    Bank Transfer        Retail          South-David  \n",
            "3      Credit Card        Retail            South-Bob  \n",
            "4      Credit Card        Online         East-Charlie  \n",
            "..             ...           ...                  ...  \n",
            "995           Cash        Online        North-Charlie  \n",
            "996  Bank Transfer        Retail            North-Bob  \n",
            "997  Bank Transfer        Online          South-David  \n",
            "998  Bank Transfer        Online           West-David  \n",
            "999           Cash        Online           East-Alice  \n",
            "\n",
            "[1000 rows x 14 columns]\n"
          ]
        }
      ],
      "source": [
        "#display the whole dataset\n",
        "print(df)"
      ]
    },
    {
      "cell_type": "code",
      "execution_count": null,
      "metadata": {
        "colab": {
          "base_uri": "https://localhost:8080/",
          "height": 313
        },
        "id": "ysnhHR1qLmZB",
        "outputId": "eb740db2-6cc9-40ba-8877-3962957c2ec2"
      },
      "outputs": [
        {
          "data": {
            "application/vnd.google.colaboratory.intrinsic+json": {
              "summary": "{\n  \"name\": \"df\",\n  \"rows\": 1000,\n  \"fields\": [\n    {\n      \"column\": \"Product_ID\",\n      \"properties\": {\n        \"dtype\": \"number\",\n        \"std\": 29,\n        \"min\": 1001,\n        \"max\": 1100,\n        \"num_unique_values\": 100,\n        \"samples\": [\n          1066,\n          1063,\n          1012\n        ],\n        \"semantic_type\": \"\",\n        \"description\": \"\"\n      }\n    },\n    {\n      \"column\": \"Sale_Date\",\n      \"properties\": {\n        \"dtype\": \"object\",\n        \"num_unique_values\": 340,\n        \"samples\": [\n          \"2023-03-06\",\n          \"2023-05-25\",\n          \"2023-03-04\"\n        ],\n        \"semantic_type\": \"\",\n        \"description\": \"\"\n      }\n    },\n    {\n      \"column\": \"Sales_Rep\",\n      \"properties\": {\n        \"dtype\": \"category\",\n        \"num_unique_values\": 5,\n        \"samples\": [\n          \"David\",\n          \"Alice\",\n          \"Charlie\"\n        ],\n        \"semantic_type\": \"\",\n        \"description\": \"\"\n      }\n    },\n    {\n      \"column\": \"Region\",\n      \"properties\": {\n        \"dtype\": \"category\",\n        \"num_unique_values\": 4,\n        \"samples\": [\n          \"West\",\n          \"East\",\n          \"North\"\n        ],\n        \"semantic_type\": \"\",\n        \"description\": \"\"\n      }\n    },\n    {\n      \"column\": \"Sales_Amount\",\n      \"properties\": {\n        \"dtype\": \"number\",\n        \"std\": 2846.7901256682326,\n        \"min\": 100.12,\n        \"max\": 9989.04,\n        \"num_unique_values\": 998,\n        \"samples\": [\n          1016.99,\n          3484.86,\n          2286.44\n        ],\n        \"semantic_type\": \"\",\n        \"description\": \"\"\n      }\n    },\n    {\n      \"column\": \"Quantity_Sold\",\n      \"properties\": {\n        \"dtype\": \"number\",\n        \"std\": 14,\n        \"min\": 1,\n        \"max\": 49,\n        \"num_unique_values\": 49,\n        \"samples\": [\n          15,\n          3,\n          5\n        ],\n        \"semantic_type\": \"\",\n        \"description\": \"\"\n      }\n    },\n    {\n      \"column\": \"Product_Category\",\n      \"properties\": {\n        \"dtype\": \"category\",\n        \"num_unique_values\": 4,\n        \"samples\": [\n          \"Food\",\n          \"Electronics\",\n          \"Furniture\"\n        ],\n        \"semantic_type\": \"\",\n        \"description\": \"\"\n      }\n    },\n    {\n      \"column\": \"Unit_Cost\",\n      \"properties\": {\n        \"dtype\": \"number\",\n        \"std\": 1417.8725460040862,\n        \"min\": 60.28,\n        \"max\": 4995.3,\n        \"num_unique_values\": 998,\n        \"samples\": [\n          4984.21,\n          4573.69,\n          3712.35\n        ],\n        \"semantic_type\": \"\",\n        \"description\": \"\"\n      }\n    },\n    {\n      \"column\": \"Unit_Price\",\n      \"properties\": {\n        \"dtype\": \"number\",\n        \"std\": 1419.3998385807104,\n        \"min\": 167.12,\n        \"max\": 5442.15,\n        \"num_unique_values\": 1000,\n        \"samples\": [\n          3607.15,\n          3711.47,\n          2490.47\n        ],\n        \"semantic_type\": \"\",\n        \"description\": \"\"\n      }\n    },\n    {\n      \"column\": \"Customer_Type\",\n      \"properties\": {\n        \"dtype\": \"category\",\n        \"num_unique_values\": 2,\n        \"samples\": [\n          \"New\",\n          \"Returning\"\n        ],\n        \"semantic_type\": \"\",\n        \"description\": \"\"\n      }\n    },\n    {\n      \"column\": \"Discount\",\n      \"properties\": {\n        \"dtype\": \"number\",\n        \"std\": 0.08719972300237924,\n        \"min\": 0.0,\n        \"max\": 0.3,\n        \"num_unique_values\": 31,\n        \"samples\": [\n          0.19,\n          0.1\n        ],\n        \"semantic_type\": \"\",\n        \"description\": \"\"\n      }\n    },\n    {\n      \"column\": \"Payment_Method\",\n      \"properties\": {\n        \"dtype\": \"category\",\n        \"num_unique_values\": 3,\n        \"samples\": [\n          \"Cash\",\n          \"Bank Transfer\"\n        ],\n        \"semantic_type\": \"\",\n        \"description\": \"\"\n      }\n    },\n    {\n      \"column\": \"Sales_Channel\",\n      \"properties\": {\n        \"dtype\": \"category\",\n        \"num_unique_values\": 2,\n        \"samples\": [\n          \"Retail\",\n          \"Online\"\n        ],\n        \"semantic_type\": \"\",\n        \"description\": \"\"\n      }\n    },\n    {\n      \"column\": \"Region_and_Sales_Rep\",\n      \"properties\": {\n        \"dtype\": \"category\",\n        \"num_unique_values\": 20,\n        \"samples\": [\n          \"North-Bob\",\n          \"West-Alice\"\n        ],\n        \"semantic_type\": \"\",\n        \"description\": \"\"\n      }\n    }\n  ]\n}",
              "type": "dataframe",
              "variable_name": "df"
            },
            "text/html": [
              "\n",
              "  <div id=\"df-2b616de9-2220-4c94-b4ba-385444200d46\" class=\"colab-df-container\">\n",
              "    <div>\n",
              "<style scoped>\n",
              "    .dataframe tbody tr th:only-of-type {\n",
              "        vertical-align: middle;\n",
              "    }\n",
              "\n",
              "    .dataframe tbody tr th {\n",
              "        vertical-align: top;\n",
              "    }\n",
              "\n",
              "    .dataframe thead th {\n",
              "        text-align: right;\n",
              "    }\n",
              "</style>\n",
              "<table border=\"1\" class=\"dataframe\">\n",
              "  <thead>\n",
              "    <tr style=\"text-align: right;\">\n",
              "      <th></th>\n",
              "      <th>Product_ID</th>\n",
              "      <th>Sale_Date</th>\n",
              "      <th>Sales_Rep</th>\n",
              "      <th>Region</th>\n",
              "      <th>Sales_Amount</th>\n",
              "      <th>Quantity_Sold</th>\n",
              "      <th>Product_Category</th>\n",
              "      <th>Unit_Cost</th>\n",
              "      <th>Unit_Price</th>\n",
              "      <th>Customer_Type</th>\n",
              "      <th>Discount</th>\n",
              "      <th>Payment_Method</th>\n",
              "      <th>Sales_Channel</th>\n",
              "      <th>Region_and_Sales_Rep</th>\n",
              "    </tr>\n",
              "  </thead>\n",
              "  <tbody>\n",
              "    <tr>\n",
              "      <th>0</th>\n",
              "      <td>1052</td>\n",
              "      <td>2023-02-03</td>\n",
              "      <td>Bob</td>\n",
              "      <td>North</td>\n",
              "      <td>5053.97</td>\n",
              "      <td>18</td>\n",
              "      <td>Furniture</td>\n",
              "      <td>152.75</td>\n",
              "      <td>267.22</td>\n",
              "      <td>Returning</td>\n",
              "      <td>0.09</td>\n",
              "      <td>Cash</td>\n",
              "      <td>Online</td>\n",
              "      <td>North-Bob</td>\n",
              "    </tr>\n",
              "    <tr>\n",
              "      <th>1</th>\n",
              "      <td>1093</td>\n",
              "      <td>2023-04-21</td>\n",
              "      <td>Bob</td>\n",
              "      <td>West</td>\n",
              "      <td>4384.02</td>\n",
              "      <td>17</td>\n",
              "      <td>Furniture</td>\n",
              "      <td>3816.39</td>\n",
              "      <td>4209.44</td>\n",
              "      <td>Returning</td>\n",
              "      <td>0.11</td>\n",
              "      <td>Cash</td>\n",
              "      <td>Retail</td>\n",
              "      <td>West-Bob</td>\n",
              "    </tr>\n",
              "    <tr>\n",
              "      <th>2</th>\n",
              "      <td>1015</td>\n",
              "      <td>2023-09-21</td>\n",
              "      <td>David</td>\n",
              "      <td>South</td>\n",
              "      <td>4631.23</td>\n",
              "      <td>30</td>\n",
              "      <td>Food</td>\n",
              "      <td>261.56</td>\n",
              "      <td>371.40</td>\n",
              "      <td>Returning</td>\n",
              "      <td>0.20</td>\n",
              "      <td>Bank Transfer</td>\n",
              "      <td>Retail</td>\n",
              "      <td>South-David</td>\n",
              "    </tr>\n",
              "    <tr>\n",
              "      <th>3</th>\n",
              "      <td>1072</td>\n",
              "      <td>2023-08-24</td>\n",
              "      <td>Bob</td>\n",
              "      <td>South</td>\n",
              "      <td>2167.94</td>\n",
              "      <td>39</td>\n",
              "      <td>Clothing</td>\n",
              "      <td>4330.03</td>\n",
              "      <td>4467.75</td>\n",
              "      <td>New</td>\n",
              "      <td>0.02</td>\n",
              "      <td>Credit Card</td>\n",
              "      <td>Retail</td>\n",
              "      <td>South-Bob</td>\n",
              "    </tr>\n",
              "    <tr>\n",
              "      <th>4</th>\n",
              "      <td>1061</td>\n",
              "      <td>2023-03-24</td>\n",
              "      <td>Charlie</td>\n",
              "      <td>East</td>\n",
              "      <td>3750.20</td>\n",
              "      <td>13</td>\n",
              "      <td>Electronics</td>\n",
              "      <td>637.37</td>\n",
              "      <td>692.71</td>\n",
              "      <td>New</td>\n",
              "      <td>0.08</td>\n",
              "      <td>Credit Card</td>\n",
              "      <td>Online</td>\n",
              "      <td>East-Charlie</td>\n",
              "    </tr>\n",
              "  </tbody>\n",
              "</table>\n",
              "</div>\n",
              "    <div class=\"colab-df-buttons\">\n",
              "\n",
              "  <div class=\"colab-df-container\">\n",
              "    <button class=\"colab-df-convert\" onclick=\"convertToInteractive('df-2b616de9-2220-4c94-b4ba-385444200d46')\"\n",
              "            title=\"Convert this dataframe to an interactive table.\"\n",
              "            style=\"display:none;\">\n",
              "\n",
              "  <svg xmlns=\"http://www.w3.org/2000/svg\" height=\"24px\" viewBox=\"0 -960 960 960\">\n",
              "    <path d=\"M120-120v-720h720v720H120Zm60-500h600v-160H180v160Zm220 220h160v-160H400v160Zm0 220h160v-160H400v160ZM180-400h160v-160H180v160Zm440 0h160v-160H620v160ZM180-180h160v-160H180v160Zm440 0h160v-160H620v160Z\"/>\n",
              "  </svg>\n",
              "    </button>\n",
              "\n",
              "  <style>\n",
              "    .colab-df-container {\n",
              "      display:flex;\n",
              "      gap: 12px;\n",
              "    }\n",
              "\n",
              "    .colab-df-convert {\n",
              "      background-color: #E8F0FE;\n",
              "      border: none;\n",
              "      border-radius: 50%;\n",
              "      cursor: pointer;\n",
              "      display: none;\n",
              "      fill: #1967D2;\n",
              "      height: 32px;\n",
              "      padding: 0 0 0 0;\n",
              "      width: 32px;\n",
              "    }\n",
              "\n",
              "    .colab-df-convert:hover {\n",
              "      background-color: #E2EBFA;\n",
              "      box-shadow: 0px 1px 2px rgba(60, 64, 67, 0.3), 0px 1px 3px 1px rgba(60, 64, 67, 0.15);\n",
              "      fill: #174EA6;\n",
              "    }\n",
              "\n",
              "    .colab-df-buttons div {\n",
              "      margin-bottom: 4px;\n",
              "    }\n",
              "\n",
              "    [theme=dark] .colab-df-convert {\n",
              "      background-color: #3B4455;\n",
              "      fill: #D2E3FC;\n",
              "    }\n",
              "\n",
              "    [theme=dark] .colab-df-convert:hover {\n",
              "      background-color: #434B5C;\n",
              "      box-shadow: 0px 1px 3px 1px rgba(0, 0, 0, 0.15);\n",
              "      filter: drop-shadow(0px 1px 2px rgba(0, 0, 0, 0.3));\n",
              "      fill: #FFFFFF;\n",
              "    }\n",
              "  </style>\n",
              "\n",
              "    <script>\n",
              "      const buttonEl =\n",
              "        document.querySelector('#df-2b616de9-2220-4c94-b4ba-385444200d46 button.colab-df-convert');\n",
              "      buttonEl.style.display =\n",
              "        google.colab.kernel.accessAllowed ? 'block' : 'none';\n",
              "\n",
              "      async function convertToInteractive(key) {\n",
              "        const element = document.querySelector('#df-2b616de9-2220-4c94-b4ba-385444200d46');\n",
              "        const dataTable =\n",
              "          await google.colab.kernel.invokeFunction('convertToInteractive',\n",
              "                                                    [key], {});\n",
              "        if (!dataTable) return;\n",
              "\n",
              "        const docLinkHtml = 'Like what you see? Visit the ' +\n",
              "          '<a target=\"_blank\" href=https://colab.research.google.com/notebooks/data_table.ipynb>data table notebook</a>'\n",
              "          + ' to learn more about interactive tables.';\n",
              "        element.innerHTML = '';\n",
              "        dataTable['output_type'] = 'display_data';\n",
              "        await google.colab.output.renderOutput(dataTable, element);\n",
              "        const docLink = document.createElement('div');\n",
              "        docLink.innerHTML = docLinkHtml;\n",
              "        element.appendChild(docLink);\n",
              "      }\n",
              "    </script>\n",
              "  </div>\n",
              "\n",
              "\n",
              "    <div id=\"df-3219c863-92b2-4c05-9d23-b7e0d4c55761\">\n",
              "      <button class=\"colab-df-quickchart\" onclick=\"quickchart('df-3219c863-92b2-4c05-9d23-b7e0d4c55761')\"\n",
              "                title=\"Suggest charts\"\n",
              "                style=\"display:none;\">\n",
              "\n",
              "<svg xmlns=\"http://www.w3.org/2000/svg\" height=\"24px\"viewBox=\"0 0 24 24\"\n",
              "     width=\"24px\">\n",
              "    <g>\n",
              "        <path d=\"M19 3H5c-1.1 0-2 .9-2 2v14c0 1.1.9 2 2 2h14c1.1 0 2-.9 2-2V5c0-1.1-.9-2-2-2zM9 17H7v-7h2v7zm4 0h-2V7h2v10zm4 0h-2v-4h2v4z\"/>\n",
              "    </g>\n",
              "</svg>\n",
              "      </button>\n",
              "\n",
              "<style>\n",
              "  .colab-df-quickchart {\n",
              "      --bg-color: #E8F0FE;\n",
              "      --fill-color: #1967D2;\n",
              "      --hover-bg-color: #E2EBFA;\n",
              "      --hover-fill-color: #174EA6;\n",
              "      --disabled-fill-color: #AAA;\n",
              "      --disabled-bg-color: #DDD;\n",
              "  }\n",
              "\n",
              "  [theme=dark] .colab-df-quickchart {\n",
              "      --bg-color: #3B4455;\n",
              "      --fill-color: #D2E3FC;\n",
              "      --hover-bg-color: #434B5C;\n",
              "      --hover-fill-color: #FFFFFF;\n",
              "      --disabled-bg-color: #3B4455;\n",
              "      --disabled-fill-color: #666;\n",
              "  }\n",
              "\n",
              "  .colab-df-quickchart {\n",
              "    background-color: var(--bg-color);\n",
              "    border: none;\n",
              "    border-radius: 50%;\n",
              "    cursor: pointer;\n",
              "    display: none;\n",
              "    fill: var(--fill-color);\n",
              "    height: 32px;\n",
              "    padding: 0;\n",
              "    width: 32px;\n",
              "  }\n",
              "\n",
              "  .colab-df-quickchart:hover {\n",
              "    background-color: var(--hover-bg-color);\n",
              "    box-shadow: 0 1px 2px rgba(60, 64, 67, 0.3), 0 1px 3px 1px rgba(60, 64, 67, 0.15);\n",
              "    fill: var(--button-hover-fill-color);\n",
              "  }\n",
              "\n",
              "  .colab-df-quickchart-complete:disabled,\n",
              "  .colab-df-quickchart-complete:disabled:hover {\n",
              "    background-color: var(--disabled-bg-color);\n",
              "    fill: var(--disabled-fill-color);\n",
              "    box-shadow: none;\n",
              "  }\n",
              "\n",
              "  .colab-df-spinner {\n",
              "    border: 2px solid var(--fill-color);\n",
              "    border-color: transparent;\n",
              "    border-bottom-color: var(--fill-color);\n",
              "    animation:\n",
              "      spin 1s steps(1) infinite;\n",
              "  }\n",
              "\n",
              "  @keyframes spin {\n",
              "    0% {\n",
              "      border-color: transparent;\n",
              "      border-bottom-color: var(--fill-color);\n",
              "      border-left-color: var(--fill-color);\n",
              "    }\n",
              "    20% {\n",
              "      border-color: transparent;\n",
              "      border-left-color: var(--fill-color);\n",
              "      border-top-color: var(--fill-color);\n",
              "    }\n",
              "    30% {\n",
              "      border-color: transparent;\n",
              "      border-left-color: var(--fill-color);\n",
              "      border-top-color: var(--fill-color);\n",
              "      border-right-color: var(--fill-color);\n",
              "    }\n",
              "    40% {\n",
              "      border-color: transparent;\n",
              "      border-right-color: var(--fill-color);\n",
              "      border-top-color: var(--fill-color);\n",
              "    }\n",
              "    60% {\n",
              "      border-color: transparent;\n",
              "      border-right-color: var(--fill-color);\n",
              "    }\n",
              "    80% {\n",
              "      border-color: transparent;\n",
              "      border-right-color: var(--fill-color);\n",
              "      border-bottom-color: var(--fill-color);\n",
              "    }\n",
              "    90% {\n",
              "      border-color: transparent;\n",
              "      border-bottom-color: var(--fill-color);\n",
              "    }\n",
              "  }\n",
              "</style>\n",
              "\n",
              "      <script>\n",
              "        async function quickchart(key) {\n",
              "          const quickchartButtonEl =\n",
              "            document.querySelector('#' + key + ' button');\n",
              "          quickchartButtonEl.disabled = true;  // To prevent multiple clicks.\n",
              "          quickchartButtonEl.classList.add('colab-df-spinner');\n",
              "          try {\n",
              "            const charts = await google.colab.kernel.invokeFunction(\n",
              "                'suggestCharts', [key], {});\n",
              "          } catch (error) {\n",
              "            console.error('Error during call to suggestCharts:', error);\n",
              "          }\n",
              "          quickchartButtonEl.classList.remove('colab-df-spinner');\n",
              "          quickchartButtonEl.classList.add('colab-df-quickchart-complete');\n",
              "        }\n",
              "        (() => {\n",
              "          let quickchartButtonEl =\n",
              "            document.querySelector('#df-3219c863-92b2-4c05-9d23-b7e0d4c55761 button');\n",
              "          quickchartButtonEl.style.display =\n",
              "            google.colab.kernel.accessAllowed ? 'block' : 'none';\n",
              "        })();\n",
              "      </script>\n",
              "    </div>\n",
              "\n",
              "    </div>\n",
              "  </div>\n"
            ],
            "text/plain": [
              "   Product_ID   Sale_Date Sales_Rep Region  Sales_Amount  Quantity_Sold  \\\n",
              "0        1052  2023-02-03       Bob  North       5053.97             18   \n",
              "1        1093  2023-04-21       Bob   West       4384.02             17   \n",
              "2        1015  2023-09-21     David  South       4631.23             30   \n",
              "3        1072  2023-08-24       Bob  South       2167.94             39   \n",
              "4        1061  2023-03-24   Charlie   East       3750.20             13   \n",
              "\n",
              "  Product_Category  Unit_Cost  Unit_Price Customer_Type  Discount  \\\n",
              "0        Furniture     152.75      267.22     Returning      0.09   \n",
              "1        Furniture    3816.39     4209.44     Returning      0.11   \n",
              "2             Food     261.56      371.40     Returning      0.20   \n",
              "3         Clothing    4330.03     4467.75           New      0.02   \n",
              "4      Electronics     637.37      692.71           New      0.08   \n",
              "\n",
              "  Payment_Method Sales_Channel Region_and_Sales_Rep  \n",
              "0           Cash        Online            North-Bob  \n",
              "1           Cash        Retail             West-Bob  \n",
              "2  Bank Transfer        Retail          South-David  \n",
              "3    Credit Card        Retail            South-Bob  \n",
              "4    Credit Card        Online         East-Charlie  "
            ]
          },
          "execution_count": 6,
          "metadata": {},
          "output_type": "execute_result"
        }
      ],
      "source": [
        "#display first rows\n",
        "df.head()"
      ]
    },
    {
      "cell_type": "code",
      "execution_count": null,
      "metadata": {
        "colab": {
          "base_uri": "https://localhost:8080/"
        },
        "id": "g3s5dtfNLr38",
        "outputId": "0f70bc3b-e947-4408-bd05-ba353cd6c5fc"
      },
      "outputs": [
        {
          "name": "stdout",
          "output_type": "stream",
          "text": [
            "<class 'pandas.core.frame.DataFrame'>\n",
            "RangeIndex: 1000 entries, 0 to 999\n",
            "Data columns (total 14 columns):\n",
            " #   Column                Non-Null Count  Dtype  \n",
            "---  ------                --------------  -----  \n",
            " 0   Product_ID            1000 non-null   int64  \n",
            " 1   Sale_Date             1000 non-null   object \n",
            " 2   Sales_Rep             1000 non-null   object \n",
            " 3   Region                1000 non-null   object \n",
            " 4   Sales_Amount          1000 non-null   float64\n",
            " 5   Quantity_Sold         1000 non-null   int64  \n",
            " 6   Product_Category      1000 non-null   object \n",
            " 7   Unit_Cost             1000 non-null   float64\n",
            " 8   Unit_Price            1000 non-null   float64\n",
            " 9   Customer_Type         1000 non-null   object \n",
            " 10  Discount              1000 non-null   float64\n",
            " 11  Payment_Method        1000 non-null   object \n",
            " 12  Sales_Channel         1000 non-null   object \n",
            " 13  Region_and_Sales_Rep  1000 non-null   object \n",
            "dtypes: float64(4), int64(2), object(8)\n",
            "memory usage: 109.5+ KB\n"
          ]
        }
      ],
      "source": [
        "#display the information of the data\n",
        "df.info()"
      ]
    },
    {
      "cell_type": "code",
      "execution_count": null,
      "metadata": {
        "colab": {
          "base_uri": "https://localhost:8080/"
        },
        "id": "No2_TrDeMP9F",
        "outputId": "55363905-c492-4afa-d9e4-11795e41e207"
      },
      "outputs": [
        {
          "name": "stdout",
          "output_type": "stream",
          "text": [
            "Rows: 1000\n"
          ]
        }
      ],
      "source": [
        "print(f\"Rows: {df.shape[0]}\")"
      ]
    },
    {
      "cell_type": "code",
      "execution_count": null,
      "metadata": {
        "colab": {
          "base_uri": "https://localhost:8080/"
        },
        "id": "lE3e4RJMNxP8",
        "outputId": "8cd9e38e-92a6-4b59-e767-295f24cfddaa"
      },
      "outputs": [
        {
          "name": "stdout",
          "output_type": "stream",
          "text": [
            "Columns: 14\n"
          ]
        }
      ],
      "source": [
        "print(f\"Columns: {df.shape[1]}\")"
      ]
    },
    {
      "cell_type": "code",
      "execution_count": null,
      "metadata": {
        "colab": {
          "background_save": true
        },
        "id": "Fy5s5IDSN8ZC",
        "outputId": "3d5ac49b-cd32-4c5a-ecea-8615c5e1edf4"
      },
      "outputs": [
        {
          "name": "stdout",
          "output_type": "stream",
          "text": [
            "Product_ID              0\n",
            "Sale_Date               0\n",
            "Sales_Rep               0\n",
            "Region                  0\n",
            "Sales_Amount            0\n",
            "Quantity_Sold           0\n",
            "Product_Category        0\n",
            "Unit_Cost               0\n",
            "Unit_Price              0\n",
            "Customer_Type           0\n",
            "Discount                0\n",
            "Payment_Method          0\n",
            "Sales_Channel           0\n",
            "Region_and_Sales_Rep    0\n",
            "dtype: int64\n"
          ]
        }
      ],
      "source": [
        "#identify the missing values\n",
        "missing_values = df.isnull().sum()\n",
        "print(missing_values)\n"
      ]
    },
    {
      "cell_type": "code",
      "source": [
        "import pandas as pd\n",
        "\n",
        "# Step 0: Load the dataset\n",
        "df = pd.read_csv('/content/sales_data.csv')  # Replace with the correct file path if needed\n",
        "\n",
        "# Step 2: Remove duplicate rows\n",
        "duplicates = df.duplicated().sum()\n",
        "print(f\"Number of duplicate rows: {duplicates}\")\n",
        "df = df.drop_duplicates()\n",
        "print(f\"Dataset shape after removing duplicates: {df.shape}\")\n"
      ],
      "metadata": {
        "colab": {
          "base_uri": "https://localhost:8080/"
        },
        "id": "HRapSGx8Bem_",
        "outputId": "78826f8b-0a10-4070-fcf2-e154ef5f5f75"
      },
      "execution_count": 31,
      "outputs": [
        {
          "output_type": "stream",
          "name": "stdout",
          "text": [
            "Number of duplicate rows: 0\n",
            "Dataset shape after removing duplicates: (1000, 14)\n"
          ]
        }
      ]
    },
    {
      "cell_type": "code",
      "source": [
        "# Step 3: Standardize text data (strip spaces, lower-case)\n",
        "text_columns = ['Sales_Rep', 'Region', 'Product_Category', 'Customer_Type', 'Payment_Method', 'Sales_Channel', 'Region_and_Sales_Rep']\n",
        "for col in text_columns:\n",
        "    df[col] = df[col].str.strip().str.title()"
      ],
      "metadata": {
        "id": "RtLCFETHBzhT"
      },
      "execution_count": 32,
      "outputs": []
    },
    {
      "cell_type": "code",
      "source": [
        "# Step 4: Convert 'Sale_Date' to datetime\n",
        "df['Sale_Date'] = pd.to_datetime(df['Sale_Date'], errors='coerce')\n",
        "print(f\"Date column type: {df['Sale_Date'].dtype}\")"
      ],
      "metadata": {
        "colab": {
          "base_uri": "https://localhost:8080/"
        },
        "id": "NrgmN6rrB9nr",
        "outputId": "c83404f9-9fc6-46a8-e73e-939bffbf5f10"
      },
      "execution_count": 33,
      "outputs": [
        {
          "output_type": "stream",
          "name": "stdout",
          "text": [
            "Date column type: datetime64[ns]\n"
          ]
        }
      ]
    },
    {
      "cell_type": "code",
      "source": [
        "# Step 5: Rename columns (lowercase, underscores)\n",
        "df.columns = [col.lower().replace(' ', '_') for col in df.columns]\n",
        "print(\"Renamed columns:\", df.columns.tolist())"
      ],
      "metadata": {
        "colab": {
          "base_uri": "https://localhost:8080/"
        },
        "id": "SBXJJ5JlCKHH",
        "outputId": "cc5be5d1-c303-43f1-9704-9b10c939d194"
      },
      "execution_count": 34,
      "outputs": [
        {
          "output_type": "stream",
          "name": "stdout",
          "text": [
            "Renamed columns: ['product_id', 'sale_date', 'sales_rep', 'region', 'sales_amount', 'quantity_sold', 'product_category', 'unit_cost', 'unit_price', 'customer_type', 'discount', 'payment_method', 'sales_channel', 'region_and_sales_rep']\n"
          ]
        }
      ]
    },
    {
      "cell_type": "code",
      "source": [
        "# Step 6: Validate and correct data types\n",
        "# Example: Check numeric fields\n",
        "numeric_cols = ['product_id', 'sales_amount', 'quantity_sold', 'unit_cost', 'unit_price', 'discount']\n",
        "df[numeric_cols] = df[numeric_cols].apply(pd.to_numeric, errors='coerce')"
      ],
      "metadata": {
        "id": "ASjUIoN8CO_v"
      },
      "execution_count": 35,
      "outputs": []
    },
    {
      "cell_type": "code",
      "source": [
        "# Optional: Check for outliers or incorrect entries (like negative sales amounts)\n",
        "if (df['sales_amount'] < 0).any():\n",
        "    print(\"Warning: Negative sales amounts found!\")"
      ],
      "metadata": {
        "id": "hJDRI6ZJCQTZ"
      },
      "execution_count": 36,
      "outputs": []
    },
    {
      "cell_type": "code",
      "source": [
        "\n",
        "# Step 7: Save cleaned data\n",
        "df.to_csv('/content/sales_data_cleaned.csv', index=False)\n",
        "print(\"Cleaned data saved as 'sales_data_cleaned.csv'\")"
      ],
      "metadata": {
        "colab": {
          "base_uri": "https://localhost:8080/"
        },
        "id": "xEB5-w4wCUNc",
        "outputId": "b5627ddf-cff2-4f41-8ca3-4a3c84f1c5ee"
      },
      "execution_count": 37,
      "outputs": [
        {
          "output_type": "stream",
          "name": "stdout",
          "text": [
            "Cleaned data saved as 'sales_data_cleaned.csv'\n"
          ]
        }
      ]
    },
    {
      "cell_type": "code",
      "source": [],
      "metadata": {
        "id": "zhToTIlcCdMD"
      },
      "execution_count": 40,
      "outputs": []
    }
  ],
  "metadata": {
    "colab": {
      "provenance": [],
      "authorship_tag": "ABX9TyOCJfX8jnl8Im6XQN9Vl3YI",
      "include_colab_link": true
    },
    "kernelspec": {
      "display_name": "Python 3",
      "name": "python3"
    },
    "language_info": {
      "name": "python"
    }
  },
  "nbformat": 4,
  "nbformat_minor": 0
}